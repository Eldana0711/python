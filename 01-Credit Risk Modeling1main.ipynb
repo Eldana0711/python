{
 "cells": [
  {
   "cell_type": "markdown",
   "metadata": {},
   "source": [
    "# Data Preparation"
   ]
  },
  {
   "cell_type": "markdown",
   "metadata": {},
   "source": [
    "## Импорт данных"
   ]
  },
  {
   "cell_type": "code",
   "execution_count": 1,
   "metadata": {},
   "outputs": [],
   "source": [
    "import numpy as np\n",
    "import pandas as pd"
   ]
  },
  {
   "cell_type": "markdown",
   "metadata": {},
   "source": [
    "Набор данных содержит все доступные данные по более чем 800 000 потребительским кредитам, выданным с 2007 по 2015 год Lending Club: крупной американской компанией по одноранговому кредитованию. Существует несколько различных версий этого набора данных. Я использовала версию, доступную на kaggle.com."
   ]
  },
  {
   "cell_type": "code",
   "execution_count": null,
   "metadata": {},
   "outputs": [],
   "source": [
    "Заггрзуить данные можно при помощи следующего кода:\n",
    "def load_data(filename):\n",
    "    try:\n",
    "        df=pd.read_csv(filename)\n",
    "        return df\n",
    "    except FileNotFoundError:\n",
    "        print(\"{} does not exist\".format(filename))\n",
    "filename = \"./loan_data_2007_2014.csv\"\n",
    "data = load_data(filename=filename)"
   ]
  },
  {
   "cell_type": "code",
   "execution_count": 6,
   "metadata": {},
   "outputs": [],
   "source": [
    "Если мы хотим чтобы отображались все названия стоблцов, то применяем следующую формулу: pd.options.display.max_columns = None\n"
   ]
  },
  {
   "cell_type": "code",
   "execution_count": null,
   "metadata": {},
   "outputs": [],
   "source": [
    "С помощью data.head() можно увидеть первые строки (информацию) датафрэйма\n",
    "data.tail() показывает последние строки (информацию) датафрэйма"
   ]
  },
  {
   "cell_type": "code",
   "execution_count": null,
   "metadata": {},
   "outputs": [],
   "source": [
    "Чтобы рассмотреть все названия столбцов в наборе данных, используем: data.columns.values"
   ]
  },
  {
   "cell_type": "code",
   "execution_count": null,
   "metadata": {},
   "outputs": [],
   "source": [
    "data.info() предоставляет информацию о типе данных, наличии нулевых значений. Таким образом показывая общую информацию об используемых данных."
   ]
  },
  {
   "cell_type": "markdown",
   "metadata": {},
   "source": [
    "## Предобработка"
   ]
  },
  {
   "cell_type": "markdown",
   "metadata": {},
   "source": [
    "Предобработка данных предусматривает сведение данных, конкретного стоблца или строки, к определенному формату.\n",
    "Например, столбец \"emp_length\" означает работает ли кандидат, который хотел бы получить разрещение на кредит. И если работает то какой период времени (меньше 1 года, 1 год, 8 лет и т.д)"
   ]
  },
  {
   "cell_type": "code",
   "execution_count": null,
   "metadata": {},
   "outputs": [],
   "source": [
    "Посмотреть все уникальные значения можно при помощи unique(), который отражает список.\n",
    "Если в данных присутствуют такиие символы как \"\\+\", \"n/a\", \"years\", мы заменяем их на 0 (n/a или меньше 1 года продолжительность работы),а str значеня становятся пустыми (к примеру, \"years\" становится \" \").\n",
    "Замена значений осуществляется при помощи replace\n",
    "Далее видоизмененные str значения перевод в числовые, используя pd.to_numeric(data['emp_length'])\n",
    "С помощью type(data['emp_length'][0]) можно проверить формат данных. Тепеь это numpy.float64\n",
    "Такие же действия осуществляются с другими столбцами.\n",
    "Если это столбец (дата (год, месяц, день)). То мы сначала перевод в формат pd.to_datetime и затем указываем как будет выгдялеть дата (формат, к примеру, \"%B-%Y\" (название месяца и года))"
   ]
  },
  {
   "cell_type": "markdown",
   "metadata": {},
   "source": [
    "# Предварительная обработка нескольких дискретных переменных"
   ]
  },
  {
   "cell_type": "code",
   "execution_count": 37,
   "metadata": {},
   "outputs": [
    {
     "data": {
      "text/html": [
       "<div>\n",
       "<style scoped>\n",
       "    .dataframe tbody tr th:only-of-type {\n",
       "        vertical-align: middle;\n",
       "    }\n",
       "\n",
       "    .dataframe tbody tr th {\n",
       "        vertical-align: top;\n",
       "    }\n",
       "\n",
       "    .dataframe thead th {\n",
       "        text-align: right;\n",
       "    }\n",
       "</style>\n",
       "<table border=\"1\" class=\"dataframe\">\n",
       "  <thead>\n",
       "    <tr style=\"text-align: right;\">\n",
       "      <th></th>\n",
       "      <th>A</th>\n",
       "      <th>B</th>\n",
       "      <th>C</th>\n",
       "      <th>D</th>\n",
       "      <th>E</th>\n",
       "      <th>F</th>\n",
       "      <th>G</th>\n",
       "    </tr>\n",
       "  </thead>\n",
       "  <tbody>\n",
       "    <tr>\n",
       "      <th>0</th>\n",
       "      <td>0</td>\n",
       "      <td>1</td>\n",
       "      <td>0</td>\n",
       "      <td>0</td>\n",
       "      <td>0</td>\n",
       "      <td>0</td>\n",
       "      <td>0</td>\n",
       "    </tr>\n",
       "    <tr>\n",
       "      <th>1</th>\n",
       "      <td>0</td>\n",
       "      <td>0</td>\n",
       "      <td>1</td>\n",
       "      <td>0</td>\n",
       "      <td>0</td>\n",
       "      <td>0</td>\n",
       "      <td>0</td>\n",
       "    </tr>\n",
       "    <tr>\n",
       "      <th>2</th>\n",
       "      <td>0</td>\n",
       "      <td>0</td>\n",
       "      <td>1</td>\n",
       "      <td>0</td>\n",
       "      <td>0</td>\n",
       "      <td>0</td>\n",
       "      <td>0</td>\n",
       "    </tr>\n",
       "    <tr>\n",
       "      <th>3</th>\n",
       "      <td>0</td>\n",
       "      <td>0</td>\n",
       "      <td>1</td>\n",
       "      <td>0</td>\n",
       "      <td>0</td>\n",
       "      <td>0</td>\n",
       "      <td>0</td>\n",
       "    </tr>\n",
       "    <tr>\n",
       "      <th>4</th>\n",
       "      <td>0</td>\n",
       "      <td>1</td>\n",
       "      <td>0</td>\n",
       "      <td>0</td>\n",
       "      <td>0</td>\n",
       "      <td>0</td>\n",
       "      <td>0</td>\n",
       "    </tr>\n",
       "    <tr>\n",
       "      <th>...</th>\n",
       "      <td>...</td>\n",
       "      <td>...</td>\n",
       "      <td>...</td>\n",
       "      <td>...</td>\n",
       "      <td>...</td>\n",
       "      <td>...</td>\n",
       "      <td>...</td>\n",
       "    </tr>\n",
       "    <tr>\n",
       "      <th>466280</th>\n",
       "      <td>0</td>\n",
       "      <td>0</td>\n",
       "      <td>1</td>\n",
       "      <td>0</td>\n",
       "      <td>0</td>\n",
       "      <td>0</td>\n",
       "      <td>0</td>\n",
       "    </tr>\n",
       "    <tr>\n",
       "      <th>466281</th>\n",
       "      <td>0</td>\n",
       "      <td>0</td>\n",
       "      <td>0</td>\n",
       "      <td>1</td>\n",
       "      <td>0</td>\n",
       "      <td>0</td>\n",
       "      <td>0</td>\n",
       "    </tr>\n",
       "    <tr>\n",
       "      <th>466282</th>\n",
       "      <td>0</td>\n",
       "      <td>0</td>\n",
       "      <td>0</td>\n",
       "      <td>1</td>\n",
       "      <td>0</td>\n",
       "      <td>0</td>\n",
       "      <td>0</td>\n",
       "    </tr>\n",
       "    <tr>\n",
       "      <th>466283</th>\n",
       "      <td>1</td>\n",
       "      <td>0</td>\n",
       "      <td>0</td>\n",
       "      <td>0</td>\n",
       "      <td>0</td>\n",
       "      <td>0</td>\n",
       "      <td>0</td>\n",
       "    </tr>\n",
       "    <tr>\n",
       "      <th>466284</th>\n",
       "      <td>0</td>\n",
       "      <td>0</td>\n",
       "      <td>0</td>\n",
       "      <td>1</td>\n",
       "      <td>0</td>\n",
       "      <td>0</td>\n",
       "      <td>0</td>\n",
       "    </tr>\n",
       "  </tbody>\n",
       "</table>\n",
       "<p>466285 rows × 7 columns</p>\n",
       "</div>"
      ],
      "text/plain": [
       "        A  B  C  D  E  F  G\n",
       "0       0  1  0  0  0  0  0\n",
       "1       0  0  1  0  0  0  0\n",
       "2       0  0  1  0  0  0  0\n",
       "3       0  0  1  0  0  0  0\n",
       "4       0  1  0  0  0  0  0\n",
       "...    .. .. .. .. .. .. ..\n",
       "466280  0  0  1  0  0  0  0\n",
       "466281  0  0  0  1  0  0  0\n",
       "466282  0  0  0  1  0  0  0\n",
       "466283  1  0  0  0  0  0  0\n",
       "466284  0  0  0  1  0  0  0\n",
       "\n",
       "[466285 rows x 7 columns]"
      ]
     },
     "execution_count": 37,
     "metadata": {},
     "output_type": "execute_result"
    }
   ],
   "source": [
    "pd.get_dummies(loan_data['grade'])"
   ]
  },
  {
   "cell_type": "markdown",
   "metadata": {},
   "source": [
    "У нас есть переменная \"Grade\", которая определяет категорию, к которой относятся кандидаты (A-высокий шанс на получения кредита и G-низкий.\n",
    "С помощью pd.get_dummies мы получаем семь фиктивных переменных, соответствующих точному числу категорий переменной grade.\n",
    "Существует только одна единица, а остальные значения равны нулям.\n",
    "Значение единицы показывает, к какой категории переменной относится наблюдение.\n",
    "функция get dummies создает столько фиктивных переменных, сколько категорий по умолчанию.\n",
    "При этом вновь созданные переменные имеют те же имена, что и категории.\n"
   ]
  },
  {
   "cell_type": "markdown",
   "metadata": {},
   "source": [
    "# Поиск и обработка пропущенных значений"
   ]
  },
  {
   "cell_type": "code",
   "execution_count": null,
   "metadata": {},
   "outputs": [],
   "source": [
    "Количество нулевых значений можно посмотреть через data.isnull()\n",
    "Заполнить нулевые значений можно через fillna(0, inplace = True). Зависит от столбца и какими значениями необходимо заполнить"
   ]
  },
  {
   "cell_type": "markdown",
   "metadata": {},
   "source": [
    "К примеру, для годового дохода («annual_inc») заменить недостающие значения средним значением всех элементов переменной."
   ]
  },
  {
   "cell_type": "code",
   "execution_count": 49,
   "metadata": {},
   "outputs": [],
   "source": [
    "Это все нужные переменные\n",
    "data['mths_since_earliest_cr_line']\n",
    "data['acc_now_delinq']\n",
    "data['total_acc']\n",
    "data['pub_rec']\n",
    "data['open_acc']\n",
    "data['inq_last_6mths']\n",
    "data['delinq_2yrs']\n",
    "data['emp_length_int']"
   ]
  },
  {
   "cell_type": "markdown",
   "metadata": {},
   "source": [
    "# PD (вероятность дефолта) модель"
   ]
  },
  {
   "cell_type": "markdown",
   "metadata": {},
   "source": [
    "Каждый кредит имеет один из этих статусов: полностью погашенных ( в течение 31-120 дней), опоздавший от 16 до 30 дней, полностью оплаченный, и те что не соответствуют статусу кредитной политики.\n",
    "Очевидно, что счета, которые были полностью оплачены, не были дефолтными.Они хороши. С другой стороны, списанные счета определенно дефолтировали. Поэтому они плохие (charged off)"
   ]
  },
  {
   "cell_type": "code",
   "execution_count": 51,
   "metadata": {},
   "outputs": [
    {
     "data": {
      "text/plain": [
       "Current                                                224226\n",
       "Fully Paid                                             184739\n",
       "Charged Off                                             42475\n",
       "Late (31-120 days)                                       6900\n",
       "In Grace Period                                          3146\n",
       "Does not meet the credit policy. Status:Fully Paid       1988\n",
       "Late (16-30 days)                                        1218\n",
       "Default                                                   832\n",
       "Does not meet the credit policy. Status:Charged Off       761\n",
       "Name: loan_status, dtype: int64"
      ]
     },
     "execution_count": 51,
     "metadata": {},
     "output_type": "execute_result"
    }
   ],
   "source": [
    "К примеру\n",
    "data['loan_status'].value_counts()"
   ]
  },
  {
   "cell_type": "markdown",
   "metadata": {},
   "source": [
    "Вот как будет работать логистическая регрессия:\n",
    "\n",
    "Сначала мы оценим взаимосвязь между зависимой переменной и независимыми переменными.\n",
    "\n",
    "Во-вторых, оценим коэффициенты регрессии каждой из упомянутых нами независимых переменных.\n",
    "\n",
    "Нам нужна простая в интерпретации модель.\n",
    "\n",
    "Одним из примеров простоты использования является то, что мы предпочитаем положительные коэффициенты для обозначения положительного качества. Это более высокая кредитоспособность.\n"
   ]
  },
  {
   "cell_type": "markdown",
   "metadata": {},
   "source": [
    "Следовательно, в нашей переменной \"good or bad\" будет использоваться значение единицы для представления хороших счетов,\n",
    "\n",
    "и мы будем использовать значение нуля для представления плохих или дефолтных учетных записей.\n"
   ]
  },
  {
   "cell_type": "markdown",
   "metadata": {},
   "source": [
    "для этого используем np where- он проверяет, истинно ли условие, и присваивает соответствующие значения.\n",
    "Воспользуемся методом isin. Этот метод проверяет, есть ли значение в списке значений."
   ]
  },
  {
   "cell_type": "code",
   "execution_count": 53,
   "metadata": {},
   "outputs": [],
   "source": [
    "Пример:\n",
    "data['good or bad'] = np.where(data['loan_status'].isin(['Charged Off', 'Default',\n",
    "                                                               'Does not meet the credit policy. Status:Charged Off',\n",
    "                                                               'Late (31-120 days)']), 0, 1)"
   ]
  },
  {
   "cell_type": "markdown",
   "metadata": {},
   "source": [
    "# Разделение данных, вес доказательств, информационная ценность"
   ]
  },
  {
   "cell_type": "code",
   "execution_count": 55,
   "metadata": {},
   "outputs": [],
   "source": [
    "Импорт\n",
    "from sklearn.model_selection import train_test_split"
   ]
  },
  {
   "cell_type": "code",
   "execution_count": 62,
   "metadata": {},
   "outputs": [],
   "source": [
    "Разделяем данные на тренировочный и тестовый набор\n",
    "data_inputs_train, data_inputs_test, data_targets_train, data_targets_test = train_test_split(data.drop('good or bad', axis = 1), data['good or bad'], test_size = 0.2, random_state = 42)"
   ]
  },
  {
   "cell_type": "markdown",
   "metadata": {},
   "source": [
    "вес доказательств дискретной переменной равен натуральному логарифму отношения доли хороших заемщиков к\n",
    "\n",
    "доле плохих заемщиков.\n",
    "\n",
    "Поэтому, чтобы найти вес доказательств оценки, мы должны сначала найти соотношение хороших и плохих заемщиков"
   ]
  },
  {
   "cell_type": "markdown",
   "metadata": {},
   "source": [
    "Начнем с количества заемщиков по каждому классу.\n",
    "\n",
    "Для этого мы можем подсчитать строки, которые содержали каждую из оценок.\n",
    "\n",
    "В данном случае делим по классам."
   ]
  },
  {
   "cell_type": "markdown",
   "metadata": {},
   "source": [
    "Еще одна информация, которая нам может понадобиться, - это соотношение хороших и плохих заемщиков в каждом из них."
   ]
  },
  {
   "cell_type": "markdown",
   "metadata": {},
   "source": [
    "Это можно суммировать либо по доле хороших заемщиков, либо по доле плохих заемщиков.\n",
    "\n",
    "Неважно, какой из них, так как доля хороших заемщиков равна единице минус доля плохих заемщиков."
   ]
  },
  {
   "cell_type": "code",
   "execution_count": 73,
   "metadata": {},
   "outputs": [
    {
     "data": {
      "text/html": [
       "<div>\n",
       "<style scoped>\n",
       "    .dataframe tbody tr th:only-of-type {\n",
       "        vertical-align: middle;\n",
       "    }\n",
       "\n",
       "    .dataframe tbody tr th {\n",
       "        vertical-align: top;\n",
       "    }\n",
       "\n",
       "    .dataframe thead th {\n",
       "        text-align: right;\n",
       "    }\n",
       "</style>\n",
       "<table border=\"1\" class=\"dataframe\">\n",
       "  <thead>\n",
       "    <tr style=\"text-align: right;\">\n",
       "      <th></th>\n",
       "      <th>grade</th>\n",
       "      <th>good_bad</th>\n",
       "      <th>grade</th>\n",
       "      <th>good_bad</th>\n",
       "    </tr>\n",
       "  </thead>\n",
       "  <tbody>\n",
       "    <tr>\n",
       "      <th>0</th>\n",
       "      <td>A</td>\n",
       "      <td>15108</td>\n",
       "      <td>A</td>\n",
       "      <td>0.962338</td>\n",
       "    </tr>\n",
       "    <tr>\n",
       "      <th>1</th>\n",
       "      <td>B</td>\n",
       "      <td>27199</td>\n",
       "      <td>B</td>\n",
       "      <td>0.923085</td>\n",
       "    </tr>\n",
       "    <tr>\n",
       "      <th>2</th>\n",
       "      <td>C</td>\n",
       "      <td>25048</td>\n",
       "      <td>C</td>\n",
       "      <td>0.882905</td>\n",
       "    </tr>\n",
       "    <tr>\n",
       "      <th>3</th>\n",
       "      <td>D</td>\n",
       "      <td>15390</td>\n",
       "      <td>D</td>\n",
       "      <td>0.844314</td>\n",
       "    </tr>\n",
       "    <tr>\n",
       "      <th>4</th>\n",
       "      <td>E</td>\n",
       "      <td>7145</td>\n",
       "      <td>E</td>\n",
       "      <td>0.805178</td>\n",
       "    </tr>\n",
       "    <tr>\n",
       "      <th>5</th>\n",
       "      <td>F</td>\n",
       "      <td>2699</td>\n",
       "      <td>F</td>\n",
       "      <td>0.775472</td>\n",
       "    </tr>\n",
       "    <tr>\n",
       "      <th>6</th>\n",
       "      <td>G</td>\n",
       "      <td>668</td>\n",
       "      <td>G</td>\n",
       "      <td>0.697605</td>\n",
       "    </tr>\n",
       "  </tbody>\n",
       "</table>\n",
       "</div>"
      ],
      "text/plain": [
       "  grade  good_bad grade  good_bad\n",
       "0     A     15108     A  0.962338\n",
       "1     B     27199     B  0.923085\n",
       "2     C     25048     C  0.882905\n",
       "3     D     15390     D  0.844314\n",
       "4     E      7145     E  0.805178\n",
       "5     F      2699     F  0.775472\n",
       "6     G       668     G  0.697605"
      ]
     },
     "execution_count": 73,
     "metadata": {},
     "output_type": "execute_result"
    }
   ],
   "source": [
    "Пример\n",
    "data"
   ]
  },
  {
   "cell_type": "markdown",
   "metadata": {},
   "source": [
    "Во-вторых, рассчитываем пропорции хороших заемщиков и плохих заемщиков\n",
    "процент хороших заемщиков и соответствующая категория класса равна количеству хороших заемщиков, которое делится на общее количество хороших заемщиков, которое представляет собой сумму хороших заемщиков во всех категориях.\n",
    "\n",
    "Аналогичным образом, процент плохих заемщиков в соответствующей категории классов равен количеству плохих заемщиков, которое делится на общее количество плохих заемщиков."
   ]
  },
  {
   "cell_type": "code",
   "execution_count": 79,
   "metadata": {},
   "outputs": [
    {
     "data": {
      "text/html": [
       "<div>\n",
       "<style scoped>\n",
       "    .dataframe tbody tr th:only-of-type {\n",
       "        vertical-align: middle;\n",
       "    }\n",
       "\n",
       "    .dataframe tbody tr th {\n",
       "        vertical-align: top;\n",
       "    }\n",
       "\n",
       "    .dataframe thead th {\n",
       "        text-align: right;\n",
       "    }\n",
       "</style>\n",
       "<table border=\"1\" class=\"dataframe\">\n",
       "  <thead>\n",
       "    <tr style=\"text-align: right;\">\n",
       "      <th></th>\n",
       "      <th>grade</th>\n",
       "      <th>n_obs</th>\n",
       "      <th>prop_good</th>\n",
       "      <th>prop_n_obs</th>\n",
       "      <th>n_good</th>\n",
       "      <th>n_bad</th>\n",
       "      <th>prop_n_good</th>\n",
       "      <th>prop_n_bad</th>\n",
       "    </tr>\n",
       "  </thead>\n",
       "  <tbody>\n",
       "    <tr>\n",
       "      <th>0</th>\n",
       "      <td>A</td>\n",
       "      <td>15108</td>\n",
       "      <td>0.962338</td>\n",
       "      <td>0.162004</td>\n",
       "      <td>14539.0</td>\n",
       "      <td>569.0</td>\n",
       "      <td>0.175027</td>\n",
       "      <td>0.055839</td>\n",
       "    </tr>\n",
       "    <tr>\n",
       "      <th>1</th>\n",
       "      <td>B</td>\n",
       "      <td>27199</td>\n",
       "      <td>0.923085</td>\n",
       "      <td>0.291656</td>\n",
       "      <td>25107.0</td>\n",
       "      <td>2092.0</td>\n",
       "      <td>0.302250</td>\n",
       "      <td>0.205299</td>\n",
       "    </tr>\n",
       "    <tr>\n",
       "      <th>2</th>\n",
       "      <td>C</td>\n",
       "      <td>25048</td>\n",
       "      <td>0.882905</td>\n",
       "      <td>0.268591</td>\n",
       "      <td>22115.0</td>\n",
       "      <td>2933.0</td>\n",
       "      <td>0.266231</td>\n",
       "      <td>0.287831</td>\n",
       "    </tr>\n",
       "    <tr>\n",
       "      <th>3</th>\n",
       "      <td>D</td>\n",
       "      <td>15390</td>\n",
       "      <td>0.844314</td>\n",
       "      <td>0.165028</td>\n",
       "      <td>12994.0</td>\n",
       "      <td>2396.0</td>\n",
       "      <td>0.156428</td>\n",
       "      <td>0.235132</td>\n",
       "    </tr>\n",
       "    <tr>\n",
       "      <th>4</th>\n",
       "      <td>E</td>\n",
       "      <td>7145</td>\n",
       "      <td>0.805178</td>\n",
       "      <td>0.076616</td>\n",
       "      <td>5753.0</td>\n",
       "      <td>1392.0</td>\n",
       "      <td>0.069257</td>\n",
       "      <td>0.136605</td>\n",
       "    </tr>\n",
       "    <tr>\n",
       "      <th>5</th>\n",
       "      <td>F</td>\n",
       "      <td>2699</td>\n",
       "      <td>0.775472</td>\n",
       "      <td>0.028942</td>\n",
       "      <td>2093.0</td>\n",
       "      <td>606.0</td>\n",
       "      <td>0.025197</td>\n",
       "      <td>0.059470</td>\n",
       "    </tr>\n",
       "    <tr>\n",
       "      <th>6</th>\n",
       "      <td>G</td>\n",
       "      <td>668</td>\n",
       "      <td>0.697605</td>\n",
       "      <td>0.007163</td>\n",
       "      <td>466.0</td>\n",
       "      <td>202.0</td>\n",
       "      <td>0.005610</td>\n",
       "      <td>0.019823</td>\n",
       "    </tr>\n",
       "  </tbody>\n",
       "</table>\n",
       "</div>"
      ],
      "text/plain": [
       "  grade  n_obs  prop_good  prop_n_obs   n_good   n_bad  prop_n_good  \\\n",
       "0     A  15108   0.962338    0.162004  14539.0   569.0     0.175027   \n",
       "1     B  27199   0.923085    0.291656  25107.0  2092.0     0.302250   \n",
       "2     C  25048   0.882905    0.268591  22115.0  2933.0     0.266231   \n",
       "3     D  15390   0.844314    0.165028  12994.0  2396.0     0.156428   \n",
       "4     E   7145   0.805178    0.076616   5753.0  1392.0     0.069257   \n",
       "5     F   2699   0.775472    0.028942   2093.0   606.0     0.025197   \n",
       "6     G    668   0.697605    0.007163    466.0   202.0     0.005610   \n",
       "\n",
       "   prop_n_bad  \n",
       "0    0.055839  \n",
       "1    0.205299  \n",
       "2    0.287831  \n",
       "3    0.235132  \n",
       "4    0.136605  \n",
       "5    0.059470  \n",
       "6    0.019823  "
      ]
     },
     "execution_count": 79,
     "metadata": {},
     "output_type": "execute_result"
    }
   ],
   "source": [
    "data пример"
   ]
  },
  {
   "cell_type": "markdown",
   "metadata": {},
   "source": [
    "Теперь есть все необходимое для расчета веса доказательств по категориям оценок.\n",
    "\n",
    "Он равен натуральному логарифму соотношения доли хороших заемщиков к доле плохих заемщиков.\n",
    "data['W'] = np.log(data['prop_n_good'] / data['prop_n_bad'])\n",
    "data"
   ]
  },
  {
   "cell_type": "markdown",
   "metadata": {},
   "source": [
    "Также можно рассчитать информационную ценность.\n",
    "\n",
    "Информационная ценность равна сумме доли добросовестных заемщиков по соответствующей категории минус доля безнадежных кредитов для соответствующей категории, умноженная на вес доказательств для соответствующей категории.\n",
    "\n",
    "Столбец информационного значения одинаков в каждой строке, поскольку эта метрика ссылается на информационное значение переменной класса в целом.\n",
    "data['IV'] = (data['prop_n_good'] - data['prop_n_bad']) * data['W']"
   ]
  }
 ],
 "metadata": {
  "kernelspec": {
   "display_name": "Python 3 (ipykernel)",
   "language": "python",
   "name": "python3"
  },
  "language_info": {
   "codemirror_mode": {
    "name": "ipython",
    "version": 3
   },
   "file_extension": ".py",
   "mimetype": "text/x-python",
   "name": "python",
   "nbconvert_exporter": "python",
   "pygments_lexer": "ipython3",
   "version": "3.9.12"
  }
 },
 "nbformat": 4,
 "nbformat_minor": 2
}
