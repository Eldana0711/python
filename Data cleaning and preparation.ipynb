{
 "cells": [
  {
   "cell_type": "markdown",
   "metadata": {},
   "source": [
    "### Очистка и подготовка данных"
   ]
  },
  {
   "cell_type": "markdown",
   "metadata": {},
   "source": [
    "Загрузите следующий файл Excel «synthetic_data.csv» и выполните все методы очистки и предварительной обработки.\n",
    "\n",
    "Наконец, сохраните новые «очищенные» данные в новый CSV-файл «cleaned_synthetic_data.csv»"
   ]
  },
  {
   "cell_type": "code",
   "execution_count": 25,
   "metadata": {},
   "outputs": [
    {
     "name": "stdout",
     "output_type": "stream",
     "text": [
      "['id', 'gender', 'nationality', 'city', 'data of birth']\n",
      "['1', '(male)', '[Kazakhstan]', 'Aktobe', '1990']\n",
      "['2', 'Female', 'russia', 'moscow', '1956-1957']\n",
      "['3', 'male', 'kazakhstan', 'astana', '2001']\n",
      "['4', 'FEMALE', 'Kazakhstan', 'nur-sultan', '2019']\n",
      "['5', '   male', 'Russia', 'Saint Petersburg', '1999']\n",
      "['6', 'female)', 'ukraine', 'Kiev', '1989']\n",
      "['7', '', 'kazakhstan', 'almaty', '2008']\n",
      "['8', 'Male', 'korea', 'pusan', '1999']\n",
      "['9', '(female)', 'korea', 'busan', '1980']\n"
     ]
    }
   ],
   "source": [
    "import csv\n",
    "r = csv.reader(open(\"./synthetic_data.csv\")) # Here is csv file\n",
    "lines = list(r)\n",
    "for row in lines:"
   ]
  },
  {
   "cell_type": "code",
   "execution_count": 27,
   "metadata": {},
   "outputs": [
    {
     "name": "stdout",
     "output_type": "stream",
     "text": [
      "male\n"
     ]
    }
   ],
   "source": [
    "lines[1][1]=\"(male)\"\n",
    "lines[1][1]=lines[1][1].replace(\"(\",\"\") #убрать скобки\n",
    "lines[1][1]=lines[1][1].replace(\")\",\"\")\n",
    "print(lines[1][1])"
   ]
  },
  {
   "cell_type": "code",
   "execution_count": 39,
   "metadata": {},
   "outputs": [
    {
     "name": "stdout",
     "output_type": "stream",
     "text": [
      "Kazakhstan\n"
     ]
    }
   ],
   "source": [
    "lines[1][2]=\"[Kazakhstan]\"\n",
    "lines[1][2]=lines[1][2].replace(\"[\",\"\") #убрать скобки\n",
    "lines[1][2]=lines[1][2].replace(\"]\",\"\")\n",
    "print(lines[1][2])"
   ]
  },
  {
   "cell_type": "code",
   "execution_count": 31,
   "metadata": {},
   "outputs": [
    {
     "name": "stdout",
     "output_type": "stream",
     "text": [
      "female\n"
     ]
    }
   ],
   "source": [
    "lines[2][1]=\"Female\"\n",
    "lines[2][1]=lines[2][1].lower() #сделать с маленькой буквы\n",
    "print(lines[2][1])"
   ]
  },
  {
   "cell_type": "code",
   "execution_count": 33,
   "metadata": {},
   "outputs": [
    {
     "name": "stdout",
     "output_type": "stream",
     "text": [
      "female\n"
     ]
    }
   ],
   "source": [
    "lines[4][1]=\"FEMALE\"\n",
    "lines[4][1]=lines[4][1].lower()\n",
    "print(lines[4][1])"
   ]
  },
  {
   "cell_type": "code",
   "execution_count": 35,
   "metadata": {},
   "outputs": [
    {
     "name": "stdout",
     "output_type": "stream",
     "text": [
      "male\n"
     ]
    }
   ],
   "source": [
    "lines[5][1]=\"   male\"\n",
    "lines[5][1]=lines[5][1].lstrip() #убрать пробелы\n",
    "print(lines[5][1])"
   ]
  },
  {
   "cell_type": "code",
   "execution_count": 37,
   "metadata": {},
   "outputs": [
    {
     "name": "stdout",
     "output_type": "stream",
     "text": [
      "female\n",
      "Ukraine\n"
     ]
    }
   ],
   "source": [
    "lines[6][1],lines[6][2]=\"female)\",\"ukraine\"\n",
    "lines[6][1]=lines[6][1].replace(\")\",\"\")\n",
    "lines[6][2]=lines[6][2].title()\n",
    "print(lines[6][1])\n",
    "print(lines[6][2])"
   ]
  },
  {
   "cell_type": "code",
   "execution_count": 41,
   "metadata": {},
   "outputs": [
    {
     "name": "stdout",
     "output_type": "stream",
     "text": [
      "Russia\n",
      "Moscow\n"
     ]
    }
   ],
   "source": [
    "lines[2][2],lines[2][3]=\"russia\",\"moscow\"\n",
    "lines[2][2]=lines[2][2].title()\n",
    "lines[2][3]=lines[2][3].title()\n",
    "print(lines[2][2])\n",
    "print(lines[2][3])"
   ]
  },
  {
   "cell_type": "code",
   "execution_count": 51,
   "metadata": {},
   "outputs": [
    {
     "name": "stdout",
     "output_type": "stream",
     "text": [
      "1956\n"
     ]
    }
   ],
   "source": [
    "lines[2][4]=\"1956-1957\"\n",
    "lines[2][4]=lines[2][4].split(\"-\")\n",
    "lines[2][4]=[int(y) for y in lines[2][4]]\n",
    "app_year=round(sum(lines[2][4])/len(lines[2][4]))\n",
    "lines[2][4]=app_year\n",
    "print(lines[2][4])"
   ]
  },
  {
   "cell_type": "code",
   "execution_count": 53,
   "metadata": {},
   "outputs": [
    {
     "name": "stdout",
     "output_type": "stream",
     "text": [
      "Kazakhstan\n",
      "Astana\n",
      "Nur-Sultan\n",
      "Saint-Petersburg\n",
      "Almaty\n"
     ]
    }
   ],
   "source": [
    "lines[3][2],lines[3][3]=\"kazakhstan\",\"astana\"\n",
    "lines[4][3]=\"nur-sultan\"\n",
    "lines[5][3]=\"Saint Petersburg\"\n",
    "lines[7][3]=\"almaty\"\n",
    "lines[3][2]=lines[3][2].title()\n",
    "lines[3][3]=lines[3][3].title()\n",
    "lines[4][3]=lines[4][3].title()\n",
    "lines[5][3]=lines[5][3].replace(\" \",\"-\")\n",
    "lines[7][3]=lines[7][3].title()\n",
    "print(lines[3][2])\n",
    "print(lines[3][3])\n",
    "print(lines[4][3])\n",
    "print(lines[5][3])\n",
    "print(lines[7][3])"
   ]
  },
  {
   "cell_type": "code",
   "execution_count": 55,
   "metadata": {},
   "outputs": [
    {
     "name": "stdout",
     "output_type": "stream",
     "text": [
      "not specified\n"
     ]
    }
   ],
   "source": [
    "lines[7][1]=\"\"\n",
    "lines[7][1]=lines[7][1].replace(\"\",\"not specified\")\n",
    "print(lines[7][1])"
   ]
  },
  {
   "cell_type": "code",
   "execution_count": 57,
   "metadata": {},
   "outputs": [
    {
     "name": "stdout",
     "output_type": "stream",
     "text": [
      "Kazakhstan\n",
      "male\n",
      "Korea\n",
      "Pusan\n"
     ]
    }
   ],
   "source": [
    "lines[7][2],lines[8][1]=\"kazakhstan\",\"Male\"\n",
    "lines[7][2]=lines[7][2].title()\n",
    "lines[8][1]=lines[8][1].lower()\n",
    "lines[8][2],lines[8][3]=\"korea\",\"pusan\"\n",
    "lines[8][2]=lines[8][2].title()\n",
    "lines[8][3]=lines[8][3].title()\n",
    "print(lines[7][2])\n",
    "print(lines[8][1])\n",
    "print(lines[8][2])\n",
    "print(lines[8][3])\n"
   ]
  },
  {
   "cell_type": "code",
   "execution_count": 61,
   "metadata": {},
   "outputs": [
    {
     "name": "stdout",
     "output_type": "stream",
     "text": [
      "female\n",
      "Korea\n",
      "Pusan\n"
     ]
    }
   ],
   "source": [
    "lines[9][1],lines[9][2],lines[9][3]=\"(female)\",\"korea\",\"busan\"\n",
    "lines[9][1]=lines[9][1].replace(\"(\",\"\") #убрать скобки\n",
    "lines[9][1]=lines[9][1].replace(\")\",\"\")\n",
    "lines[9][2]=lines[9][2].title()\n",
    "lines[9][3]=lines[9][3].title()\n",
    "lines[9][3]=\"Pusan\"\n",
    "print(lines[9][1])\n",
    "print(lines[9][2])\n",
    "print(lines[9][3])"
   ]
  },
  {
   "cell_type": "code",
   "execution_count": 64,
   "metadata": {},
   "outputs": [
    {
     "data": {
      "text/plain": [
       "[['id', 'gender', 'nationality', 'city', 'data of birth'],\n",
       " ['1', 'male', 'Kazakhstan', 'Aktobe', 1990],\n",
       " ['2', 'female', 'Russia', 'Moscow', 1956],\n",
       " ['3', 'male', 'Kazakhstan', 'Astana', 2001],\n",
       " ['4', 'female', 'Kazakhstan', 'Nur-Sultan', 2019],\n",
       " ['5', 'male', 'Russia', 'Saint-Petersburg', 1999],\n",
       " ['6', 'female', 'Ukraine', 'Kiev', 1989],\n",
       " ['7', 'not specified', 'Kazakhstan', 'Almaty', 2008],\n",
       " ['8', 'male', 'Korea', 'Pusan', 1999],\n",
       " ['9', 'female', 'Korea', 'Pusan', 1980]]"
      ]
     },
     "execution_count": 64,
     "metadata": {},
     "output_type": "execute_result"
    }
   ],
   "source": [
    "for i in range(1,len(lines)):\n",
    "    lines[i][-1]=int(lines[i][-1])\n",
    "lines"
   ]
  },
  {
   "cell_type": "code",
   "execution_count": 67,
   "metadata": {},
   "outputs": [
    {
     "data": {
      "text/plain": [
       "[['id', 'gender', 'nationality', 'city', 'data of birth'],\n",
       " [1, 'male', 'Kazakhstan', 'Aktobe', 1990],\n",
       " [2, 'female', 'Russia', 'Moscow', 1956],\n",
       " [3, 'male', 'Kazakhstan', 'Astana', 2001],\n",
       " [4, 'female', 'Kazakhstan', 'Nur-Sultan', 2019],\n",
       " [5, 'male', 'Russia', 'Saint-Petersburg', 1999],\n",
       " [6, 'female', 'Ukraine', 'Kiev', 1989],\n",
       " [7, 'not specified', 'Kazakhstan', 'Almaty', 2008],\n",
       " [8, 'male', 'Korea', 'Pusan', 1999],\n",
       " [9, 'female', 'Korea', 'Pusan', 1980]]"
      ]
     },
     "execution_count": 67,
     "metadata": {},
     "output_type": "execute_result"
    }
   ],
   "source": [
    "for i in range(1,len(lines)):\n",
    "    lines[i][0]=int(lines[i][0])\n",
    "lines"
   ]
  },
  {
   "cell_type": "code",
   "execution_count": 68,
   "metadata": {},
   "outputs": [
    {
     "name": "stdout",
     "output_type": "stream",
     "text": [
      "['id', 'gender', 'nationality', 'city', 'data of birth']\n",
      "[1, 'male', 'Kazakhstan', 'Aktobe', 1990]\n",
      "[2, 'female', 'Russia', 'Moscow', 1956]\n",
      "[3, 'male', 'Kazakhstan', 'Astana', 2001]\n",
      "[4, 'female', 'Kazakhstan', 'Nur-Sultan', 2019]\n",
      "[5, 'male', 'Russia', 'Saint-Petersburg', 1999]\n",
      "[6, 'female', 'Ukraine', 'Kiev', 1989]\n",
      "[7, 'not specified', 'Kazakhstan', 'Almaty', 2008]\n",
      "[8, 'male', 'Korea', 'Pusan', 1999]\n",
      "[9, 'female', 'Korea', 'Pusan', 1980]\n"
     ]
    }
   ],
   "source": [
    "for row in lines: #проверка очищенных данных к записи\n",
    "    print(row)"
   ]
  },
  {
   "cell_type": "code",
   "execution_count": 71,
   "metadata": {},
   "outputs": [],
   "source": [
    "writer = csv.writer(open(\"./cleaned_synthetic_data.csv\", 'w')) #перезапись данных\n",
    "writer.writerows(lines)"
   ]
  }
 ],
 "metadata": {
  "kernelspec": {
   "display_name": "Python 3 (ipykernel)",
   "language": "python",
   "name": "python3"
  },
  "language_info": {
   "codemirror_mode": {
    "name": "ipython",
    "version": 3
   },
   "file_extension": ".py",
   "mimetype": "text/x-python",
   "name": "python",
   "nbconvert_exporter": "python",
   "pygments_lexer": "ipython3",
   "version": "3.9.12"
  }
 },
 "nbformat": 4,
 "nbformat_minor": 2
}
